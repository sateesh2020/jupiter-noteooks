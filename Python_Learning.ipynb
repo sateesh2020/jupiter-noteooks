{
 "cells": [
  {
   "cell_type": "markdown",
   "metadata": {},
   "source": [
    "Leap Year"
   ]
  },
  {
   "cell_type": "code",
   "execution_count": null,
   "metadata": {},
   "outputs": [],
   "source": [
    "def is_leap(year):\n",
    "    leap = False\n",
    "    if year%4 == 0:\n",
    "        if year%100 == 0:\n",
    "            if year%400 == 0:\n",
    "                leap = True\n",
    "        else:\n",
    "            leap = True\n",
    "    # Write your logic here\n",
    "    return leap\n",
    "\n",
    "year = int(input())\n",
    "print(is_leap(year))"
   ]
  },
  {
   "cell_type": "code",
   "execution_count": 7,
   "metadata": {},
   "outputs": [
    {
     "name": "stdout",
     "output_type": "stream",
     "text": [
      "1234"
     ]
    }
   ],
   "source": [
    "for i in range(4):\n",
    "    print(i+1, end=\"\")"
   ]
  },
  {
   "cell_type": "code",
   "execution_count": 13,
   "metadata": {},
   "outputs": [
    {
     "name": "stdout",
     "output_type": "stream",
     "text": [
      "[[0, 0, 0], [0, 0, 1], [0, 1, 0], [0, 1, 2], [0, 2, 1], [0, 2, 2], [1, 0, 0], [1, 0, 2], [1, 1, 1], [1, 1, 2], [1, 2, 0], [1, 2, 1], [1, 2, 2], [2, 0, 1], [2, 0, 2], [2, 1, 0], [2, 1, 1], [2, 1, 2], [2, 2, 0], [2, 2, 1], [2, 2, 2]]\n"
     ]
    }
   ],
   "source": [
    "x = 2 \n",
    "y = 2 \n",
    "z = 2\n",
    "n = 2\n",
    "print( [ [ i, j, k] for i in range( x + 1) for j in range( y + 1) for k in range(z+1) if ( ( i + j + k ) != n )])"
   ]
  },
  {
   "cell_type": "code",
   "execution_count": 25,
   "metadata": {},
   "outputs": [
    {
     "name": "stdout",
     "output_type": "stream",
     "text": [
      "[1, 2, 3, 4, 4]\n",
      "3\n"
     ]
    }
   ],
   "source": [
    "if __name__ == '__main__':\n",
    "    n = 5\n",
    "    arr = [1,2,3,4,4]\n",
    "    print(arr)\n",
    "    z = max(arr)\n",
    "    while max(arr) == z:\n",
    "        arr.remove(max(arr))\n",
    "    print(max(arr))"
   ]
  },
  {
   "cell_type": "code",
   "execution_count": 29,
   "metadata": {},
   "outputs": [
    {
     "name": "stdout",
     "output_type": "stream",
     "text": [
      "5\n",
      "1 2 3 4 4\n",
      "4\n"
     ]
    },
    {
     "ename": "ValueError",
     "evalue": "max() arg is an empty sequence",
     "output_type": "error",
     "traceback": [
      "\u001b[0;31m---------------------------------------------------------------------------\u001b[0m",
      "\u001b[0;31mValueError\u001b[0m                                Traceback (most recent call last)",
      "\u001b[0;32m<ipython-input-29-c745c43eed58>\u001b[0m in \u001b[0;36m<module>\u001b[0;34m\u001b[0m\n\u001b[1;32m      4\u001b[0m     \u001b[0mlarge\u001b[0m \u001b[0;34m=\u001b[0m \u001b[0mmax\u001b[0m\u001b[0;34m(\u001b[0m\u001b[0marr\u001b[0m\u001b[0;34m)\u001b[0m\u001b[0;34m\u001b[0m\u001b[0;34m\u001b[0m\u001b[0m\n\u001b[1;32m      5\u001b[0m     \u001b[0mprint\u001b[0m\u001b[0;34m(\u001b[0m\u001b[0mlarge\u001b[0m\u001b[0;34m)\u001b[0m\u001b[0;34m\u001b[0m\u001b[0;34m\u001b[0m\u001b[0m\n\u001b[0;32m----> 6\u001b[0;31m     \u001b[0;32mwhile\u001b[0m \u001b[0mmax\u001b[0m\u001b[0;34m(\u001b[0m\u001b[0marr\u001b[0m\u001b[0;34m)\u001b[0m \u001b[0;34m==\u001b[0m \u001b[0mlarge\u001b[0m\u001b[0;34m:\u001b[0m\u001b[0;34m\u001b[0m\u001b[0;34m\u001b[0m\u001b[0m\n\u001b[0m\u001b[1;32m      7\u001b[0m         \u001b[0marr\u001b[0m\u001b[0;34m.\u001b[0m\u001b[0mremove\u001b[0m\u001b[0;34m(\u001b[0m\u001b[0mmax\u001b[0m\u001b[0;34m(\u001b[0m\u001b[0marr\u001b[0m\u001b[0;34m)\u001b[0m\u001b[0;34m)\u001b[0m\u001b[0;34m\u001b[0m\u001b[0;34m\u001b[0m\u001b[0m\n\u001b[1;32m      8\u001b[0m     \u001b[0mprint\u001b[0m\u001b[0;34m(\u001b[0m\u001b[0mmax\u001b[0m\u001b[0;34m(\u001b[0m\u001b[0marr\u001b[0m\u001b[0;34m)\u001b[0m\u001b[0;34m)\u001b[0m\u001b[0;34m\u001b[0m\u001b[0;34m\u001b[0m\u001b[0m\n",
      "\u001b[0;31mValueError\u001b[0m: max() arg is an empty sequence"
     ]
    }
   ],
   "source": [
    "if __name__ == '__main__':\n",
    "    n = int(input())\n",
    "    arr = map(int, input().split())\n",
    "    large = max(arr)\n",
    "    print(large)\n",
    "    while max(arr) == large:\n",
    "        arr.remove(max(arr))\n",
    "    print(max(arr))"
   ]
  },
  {
   "cell_type": "code",
   "execution_count": 5,
   "metadata": {},
   "outputs": [
    {
     "name": "stdout",
     "output_type": "stream",
     "text": [
      "41\n",
      "37.2\n",
      "[37.21, 37.21, 37.2, 41, 39]\n",
      "['Harry', 'Berry', 'Tina', 'Akriti', 'Harsh']\n"
     ]
    }
   ],
   "source": [
    "students = [['Harry', 37.21], ['Berry', 37.21], ['Tina', 37.2], ['Akriti', 41], ['Harsh', 39]]\n",
    "print(max([sublist[-1] for sublist in students]))\n",
    "print(min([sublist[-1] for sublist in students]))\n",
    "print([sublist[1] for sublist in students])\n",
    "print([sublist[0] for sublist in students])"
   ]
  },
  {
   "cell_type": "code",
   "execution_count": 6,
   "metadata": {},
   "outputs": [
    {
     "ename": "ValueError",
     "evalue": "list.remove(x): x not in list",
     "output_type": "error",
     "traceback": [
      "\u001b[0;31m---------------------------------------------------------------------------\u001b[0m",
      "\u001b[0;31mValueError\u001b[0m                                Traceback (most recent call last)",
      "\u001b[0;32m<ipython-input-6-21c6cba6d7a4>\u001b[0m in \u001b[0;36m<module>\u001b[0;34m\u001b[0m\n\u001b[0;32m----> 1\u001b[0;31m \u001b[0mstudents\u001b[0m\u001b[0;34m.\u001b[0m\u001b[0mremove\u001b[0m\u001b[0;34m(\u001b[0m\u001b[0mmin\u001b[0m\u001b[0;34m(\u001b[0m\u001b[0;34m[\u001b[0m\u001b[0msublist\u001b[0m\u001b[0;34m[\u001b[0m\u001b[0;34m-\u001b[0m\u001b[0;36m1\u001b[0m\u001b[0;34m]\u001b[0m \u001b[0;32mfor\u001b[0m \u001b[0msublist\u001b[0m \u001b[0;32min\u001b[0m \u001b[0mstudents\u001b[0m\u001b[0;34m]\u001b[0m\u001b[0;34m)\u001b[0m\u001b[0;34m)\u001b[0m\u001b[0;34m\u001b[0m\u001b[0;34m\u001b[0m\u001b[0m\n\u001b[0m\u001b[1;32m      2\u001b[0m \u001b[0mprint\u001b[0m\u001b[0;34m(\u001b[0m\u001b[0mstudents\u001b[0m\u001b[0;34m)\u001b[0m\u001b[0;34m\u001b[0m\u001b[0;34m\u001b[0m\u001b[0m\n",
      "\u001b[0;31mValueError\u001b[0m: list.remove(x): x not in list"
     ]
    }
   ],
   "source": [
    "students.remove(min([sublist[-1] for sublist in students]))\n",
    "print(students)"
   ]
  },
  {
   "cell_type": "code",
   "execution_count": null,
   "metadata": {
    "scrolled": true
   },
   "outputs": [],
   "source": [
    "if __name__ == '__main__':\n",
    "    def Average(lst): \n",
    "        return sum(lst) / len(lst)\n",
    "    n = int(input())\n",
    "    student_marks = {}\n",
    "    for _ in range(n):\n",
    "        name, *line = input().split()\n",
    "        scores = list(map(float, line))\n",
    "        student_marks[name] = scores\n",
    "    query_name = input()\n",
    "    marks = student_marks[query_name]\n",
    "    average = Average(marks)\n",
    "    print(\"%.2f\" % average)"
   ]
  },
  {
   "cell_type": "markdown",
   "metadata": {},
   "source": [
    "Concept\n",
    "\n",
    "If the inputs are given on one line separated by a space character, use split() to get the separate values in the form of a list:\n",
    "\n",
    "```python\n",
    ">> a = raw_input()\n",
    "5 4 3 2\n",
    ">> lis = a.split()\n",
    ">> print (lis)\n",
    "['5', '4', '3', '2']\n",
    "If the list values are all integer types, use the map() method to convert all the strings to integers.\n",
    "```\n",
    "```python\n",
    ">> newlis = list(map(int, lis))\n",
    ">> print (newlis)\n",
    "[5, 4, 3, 2]\n",
    "Sets are an unordered bag of unique values. A single set contains values of any immutable data type.\n",
    "```\n",
    "\n",
    "CREATING SETS\n",
    "\n",
    "```python\n",
    ">> myset = {1, 2} # Directly assigning values to a set\n",
    ">> myset = set()  # Initializing a set\n",
    ">> myset = set(['a', 'b']) # Creating a set from a list\n",
    ">> myset\n",
    "{'a', 'b'}\n",
    "```\n",
    "\n",
    "MODIFYING SETS\n",
    "\n",
    "Using the add() function:\n",
    "\n",
    "```python\n",
    ">> myset.add('c')\n",
    ">> myset\n",
    "{'a', 'c', 'b'}\n",
    ">> myset.add('a') # As 'a' already exists in the set, nothing happens\n",
    ">> myset.add((5, 4))\n",
    ">> myset\n",
    "{'a', 'c', 'b', (5, 4)}\n",
    "```\n",
    "\n",
    "Using the update() function:\n",
    "\n",
    "```python\n",
    ">> myset.update([1, 2, 3, 4]) # update() only works for iterable objects\n",
    ">> myset\n",
    "{'a', 1, 'c', 'b', 4, 2, (5, 4), 3}\n",
    ">> myset.update({1, 7, 8})\n",
    ">> myset\n",
    "{'a', 1, 'c', 'b', 4, 7, 8, 2, (5, 4), 3}\n",
    ">> myset.update({1, 6}, [5, 13])\n",
    ">> myset\n",
    "{'a', 1, 'c', 'b', 4, 5, 6, 7, 8, 2, (5, 4), 13, 3}\n",
    "```\n",
    "\n",
    "REMOVING ITEMS\n",
    "\n",
    "Both the discard() and remove() functions take a single value as an argument and removes that value from the set. If that value is not present, discard() does nothing, but remove() will raise a KeyError exception.\n",
    "\n",
    "```python\n",
    ">> myset.discard(10)\n",
    ">> myset\n",
    "{'a', 1, 'c', 'b', 4, 5, 7, 8, 2, 12, (5, 4), 13, 11, 3}\n",
    ">> myset.remove(13)\n",
    ">> myset\n",
    "{'a', 1, 'c', 'b', 4, 5, 7, 8, 2, 12, (5, 4), 11, 3}\n",
    "```\n",
    "\n",
    "\n",
    "COMMON SET OPERATIONS Using union(), intersection() and difference() functions.\n",
    "\n",
    "```python\n",
    ">> a = {2, 4, 5, 9}\n",
    ">> b = {2, 4, 11, 12}\n",
    ">> a.union(b) # Values which exist in a or b\n",
    "{2, 4, 5, 9, 11, 12}\n",
    ">> a.intersection(b) # Values which exist in a and b\n",
    "{2, 4}\n",
    ">> a.difference(b) # Values which exist in a but not in b\n",
    "{9, 5}\n",
    "```\n",
    "\n",
    "The union() and intersection() functions are symmetric methods:\n",
    "\n",
    "```python\n",
    ">> a.union(b) == b.union(a)\n",
    "True\n",
    ">> a.intersection(b) == b.intersection(a)\n",
    "True\n",
    ">> a.difference(b) == b.difference(a)\n",
    "False\n",
    "```"
   ]
  },
  {
   "cell_type": "code",
   "execution_count": null,
   "metadata": {},
   "outputs": [],
   "source": [
    "# Enter your code here. Read input from STDIN. Print output to STDOUT\n",
    "if __name__ == '__main__':\n",
    "    n = int(input())\n",
    "    # arrOne = list(map(int, input().split()))\n",
    "    # setOne = set(arrOne)\n",
    "    setOne = set(map(int, input().split()))\n",
    "    m = int(input())\n",
    "    setTwo = set(map(int, input().split()))\n",
    "    symDiff = setOne.difference(setTwo)\n",
    "    symDiff.update(setTwo.difference(setOne))\n",
    "    sortedSet = sorted(symDiff)\n",
    "    for n in sortedSet:\n",
    "        print(n)"
   ]
  },
  {
   "cell_type": "code",
   "execution_count": null,
   "metadata": {},
   "outputs": [],
   "source": [
    "n, m = input().split()\n",
    "\n",
    "sc_ar = input().split()\n",
    "\n",
    "A = set(input().split())\n",
    "B = set(input().split())\n",
    "print(sum([(i in A) - (i in B) for i in sc_ar]))"
   ]
  },
  {
   "cell_type": "markdown",
   "metadata": {},
   "source": [
    "Rupal has a huge collection of country stamps. She decided to count the total number of distinct country stamps in her collection. She asked for your help. You pick the stamps one by one from a stack of  country stamps.\n",
    "\n",
    "Find the total number of distinct country stamps."
   ]
  },
  {
   "cell_type": "code",
   "execution_count": null,
   "metadata": {},
   "outputs": [],
   "source": [
    "# Enter your code here. Read input from STDIN. Print output to STDOUT\n",
    "n = int(input())\n",
    "stamps = set()\n",
    "for i in range(n):\n",
    "    stamps.add(input())\n",
    "print(len(stamps))"
   ]
  },
  {
   "cell_type": "markdown",
   "metadata": {},
   "source": [
    "Task\n",
    "You have a non-empty set , and you have to execute  commands given in  lines.\n",
    "\n",
    "The commands will be pop, remove and discard.\n",
    "\n",
    "Input Format\n",
    "\n",
    "The first line contains integer , the number of elements in the set .\n",
    "The second line contains  space separated elements of set . All of the elements are non-negative integers, less than or equal to 9.\n",
    "The third line contains integer , the number of commands.\n",
    "The next  lines contains either pop, remove and/or discard commands followed by their associated value.\n",
    "\n",
    "Constraints\n",
    "\n",
    "\n",
    "\n",
    "Output Format\n",
    "\n",
    "Print the sum of the elements of set  on a single line."
   ]
  },
  {
   "cell_type": "code",
   "execution_count": null,
   "metadata": {},
   "outputs": [],
   "source": [
    "n = int(input())\n",
    "s = set(map(int, input().split())) \n",
    "for i in range(int(input())):\n",
    "    eval('s.{0}({1})'.format(*input().split()+['']))\n",
    "\n",
    "print(sum(s))"
   ]
  },
  {
   "cell_type": "code",
   "execution_count": null,
   "metadata": {},
   "outputs": [],
   "source": [
    "n = int(input())\n",
    "s = set(map(int, input().split()))\n",
    "N = int(input())\n",
    "for i in range(N):\n",
    "    try:\n",
    "        c,x = input().split()\n",
    "        if c == 'discard':\n",
    "            s.discard(int(x))\n",
    "        elif c == 'remove':\n",
    "            s.remove(int(x))\n",
    "    except ValueError:\n",
    "        s.pop()\n",
    "        continue\n",
    "print(sum(s))"
   ]
  },
  {
   "cell_type": "code",
   "execution_count": null,
   "metadata": {},
   "outputs": [],
   "source": [
    "# Enter your code here. Read input from STDIN. Print output to STDOUT\n",
    "e = int(input())\n",
    "eR = set(input().split())\n",
    "f = int(input())\n",
    "fR = set(input().split())\n",
    "\n",
    "t = eR.union(fR)\n",
    "print(len(t))"
   ]
  },
  {
   "cell_type": "code",
   "execution_count": null,
   "metadata": {},
   "outputs": [],
   "source": [
    "# Enter your code here. Read input from STDIN. Print output to STDOUT\n",
    "n = int(input())\n",
    "nS = set(input().split())\n",
    "m = int(input())\n",
    "mS = set(input().split())\n",
    "\n",
    "print(len(nS.intersection(mS)))"
   ]
  },
  {
   "cell_type": "markdown",
   "metadata": {},
   "source": [
    "### .difference()\n",
    "The tool .difference() returns a set with all the elements from the set that are not in an iterable.\n",
    "Sometimes the - operator is used in place of the .difference() tool, but it only operates on the set of elements in set.\n",
    "Set is immutable to the .difference() operation (or the - operation).\n",
    "\n",
    "```python\n",
    ">>> s = set(\"Hacker\")\n",
    ">>> print s.difference(\"Rank\")\n",
    "set(['c', 'r', 'e', 'H'])\n",
    "\n",
    ">>> print s.difference(set(['R', 'a', 'n', 'k']))\n",
    "set(['c', 'r', 'e', 'H'])\n",
    "\n",
    ">>> print s.difference(['R', 'a', 'n', 'k'])\n",
    "set(['c', 'r', 'e', 'H'])\n",
    "\n",
    ">>> print s.difference(enumerate(['R', 'a', 'n', 'k']))\n",
    "set(['a', 'c', 'r', 'e', 'H', 'k'])\n",
    "\n",
    ">>> print s.difference({\"Rank\":1})\n",
    "set(['a', 'c', 'e', 'H', 'k', 'r'])\n",
    "\n",
    ">>> s - set(\"Rank\")\n",
    "set(['H', 'c', 'r', 'e'])\n",
    "```"
   ]
  },
  {
   "cell_type": "code",
   "execution_count": null,
   "metadata": {},
   "outputs": [],
   "source": [
    "# Enter your code here. Read input from STDIN. Print output to STDOUT\n",
    "e = int(input())\n",
    "eR = set(input().split())\n",
    "f = int(input())\n",
    "fR = set(input().split())\n",
    "print(len(eR.difference(fR)))"
   ]
  },
  {
   "cell_type": "markdown",
   "metadata": {},
   "source": [
    "### .symmetric_difference()\n",
    "The .symmetric_difference() operator returns a set with all the elements that are in the set and the iterable but not both.\n",
    "Sometimes, a ^ operator is used in place of the .symmetric_difference() tool, but it only operates on the set of elements in set.\n",
    "The set is immutable to the .symmetric_difference() operation (or ^ operation).\n",
    "\n",
    "```python\n",
    ">>> s = set(\"Hacker\")\n",
    ">>> print s.symmetric_difference(\"Rank\")\n",
    "set(['c', 'e', 'H', 'n', 'R', 'r'])\n",
    "\n",
    ">>> print s.symmetric_difference(set(['R', 'a', 'n', 'k']))\n",
    "set(['c', 'e', 'H', 'n', 'R', 'r'])\n",
    "\n",
    ">>> print s.symmetric_difference(['R', 'a', 'n', 'k'])\n",
    "set(['c', 'e', 'H', 'n', 'R', 'r'])\n",
    "\n",
    ">>> print s.symmetric_difference(enumerate(['R', 'a', 'n', 'k']))\n",
    "set(['a', 'c', 'e', 'H', (0, 'R'), 'r', (2, 'n'), 'k', (1, 'a'), (3, 'k')])\n",
    "\n",
    ">>> print s.symmetric_difference({\"Rank\":1})\n",
    "set(['a', 'c', 'e', 'H', 'k', 'Rank', 'r'])\n",
    "\n",
    ">>> s ^ set(\"Rank\")\n",
    "set(['c', 'e', 'H', 'n', 'R', 'r'])\n",
    "```"
   ]
  },
  {
   "cell_type": "code",
   "execution_count": null,
   "metadata": {},
   "outputs": [],
   "source": [
    "# Enter your code here. Read input from STDIN. Print output to STDOUT\n",
    "e = int(input())\n",
    "eR = set(input().split())\n",
    "f = int(input())\n",
    "fR = set(input().split())\n",
    "print(len(eR.symmetric_difference(fR)))"
   ]
  },
  {
   "cell_type": "markdown",
   "metadata": {},
   "source": [
    "We can use the following operations to create mutations to a set:\n",
    "\n",
    "### .update() or |=\n",
    "Update the set by adding elements from an iterable/another set.\n",
    "\n",
    "```python\n",
    ">>> H = set(\"Hacker\")\n",
    ">>> R = set(\"Rank\")\n",
    ">>> H.update(R)\n",
    ">>> print H\n",
    "set(['a', 'c', 'e', 'H', 'k', 'n', 'r', 'R'])\n",
    "```\n",
    "\n",
    "### .intersection_update() or &=\n",
    "Update the set by keeping only the elements found in it and an iterable/another set.\n",
    "\n",
    "```python\n",
    ">>> H = set(\"Hacker\")\n",
    ">>> R = set(\"Rank\")\n",
    ">>> H.intersection_update(R)\n",
    ">>> print H\n",
    "set(['a', 'k'])\n",
    "```\n",
    "\n",
    "### .difference_update() or -=\n",
    "Update the set by removing elements found in an iterable/another set.\n",
    "\n",
    "```python\n",
    ">>> H = set(\"Hacker\")\n",
    ">>> R = set(\"Rank\")\n",
    ">>> H.difference_update(R)\n",
    ">>> print H\n",
    "set(['c', 'e', 'H', 'r'])\n",
    "```\n",
    "\n",
    "### .symmetric_difference_update() or ^=\n",
    "Update the set by only keeping the elements found in either set, but not in both.\n",
    "\n",
    "```python\n",
    ">>> H = set(\"Hacker\")\n",
    ">>> R = set(\"Rank\")\n",
    ">>> H.symmetric_difference_update(R)\n",
    ">>> print H\n",
    "set(['c', 'e', 'H', 'n', 'r', 'R'])\n",
    "```"
   ]
  },
  {
   "cell_type": "markdown",
   "metadata": {},
   "source": [
    "https://www.programiz.com/python-programming/methods/built-in/getattr"
   ]
  },
  {
   "cell_type": "code",
   "execution_count": null,
   "metadata": {},
   "outputs": [],
   "source": [
    "# Enter your code here. Read input from STDIN. Print output to STDOUT\n",
    "n = int(input())\n",
    "elems = set(map(int, input().split()))\n",
    "nactions = int(input())\n",
    "for i in range(nactions):\n",
    "    (command, newSet) = (input().split()[0],set(map(int, input().split())))\n",
    "    getattr(elems, command)(newSet)\n",
    "        \n",
    "print(sum(elems))"
   ]
  },
  {
   "cell_type": "markdown",
   "metadata": {},
   "source": [
    "Mr. Anant Asankhya is the manager at the INFINITE hotel. The hotel has an infinite amount of rooms.\n",
    "\n",
    "One fine day, a finite number of tourists come to stay at the hotel.\n",
    "The tourists consist of:\n",
    "→ A Captain.\n",
    "→ An unknown group of families consisting of  members per group where  ≠ .\n",
    "\n",
    "The Captain was given a separate room, and the rest were given one room per group.\n",
    "\n",
    "Mr. Anant has an unordered list of randomly arranged room entries. The list consists of the room numbers for all of the tourists. The room numbers will appear  times per group except for the Captain's room.\n",
    "\n",
    "Mr. Anant needs you to help him find the Captain's room number.\n",
    "The total number of tourists or the total number of groups of families is not known to you.\n",
    "You only know the value of  and the room number list."
   ]
  },
  {
   "cell_type": "code",
   "execution_count": 1,
   "metadata": {},
   "outputs": [
    {
     "name": "stdout",
     "output_type": "stream",
     "text": [
      "8\n"
     ]
    }
   ],
   "source": [
    "# Enter your code here. Read input from STDIN. Print output to STDOUT\n",
    "n = 5\n",
    "rArr = [1, 2, 3, 6, 5, 4, 4, 2, 5, 3, 6, 1, 6, 5, 3, 2, 4, 1, 2, 5, 1, 4, 3, 6, 8, 4, 3, 1, 5, 6, 2]\n",
    "rSet = set(rArr)\n",
    "cr = ((sum(rSet)*n) - sum(rArr))//(n-1)\n",
    "print(cr)"
   ]
  },
  {
   "cell_type": "markdown",
   "metadata": {},
   "source": []
  },
  {
   "cell_type": "code",
   "execution_count": 2,
   "metadata": {},
   "outputs": [
    {
     "name": "stdout",
     "output_type": "stream",
     "text": [
      "True\n"
     ]
    }
   ],
   "source": [
    "# Enter your code here. Read input from STDIN. Print output to STDOUT\n",
    "jSet = set([1,2,3,4,5])\n",
    "kSet = set([9,8,7,6,5,4,3,2,1])\n",
    "# print(len(jSet) == len(jSet.intersection(kSet)))\n",
    "print(jSet.issubset(kSet))"
   ]
  },
  {
   "cell_type": "code",
   "execution_count": 3,
   "metadata": {},
   "outputs": [
    {
     "name": "stdout",
     "output_type": "stream",
     "text": [
      "False\n"
     ]
    }
   ],
   "source": [
    "n = \"1 2 3 4 5 -9\".split()\n",
    "if all([int(i) > 0 for i in n]) and any([j == j[::-1] for j in n]):\n",
    "    print(True)\n",
    "else:\n",
    "    print(False)"
   ]
  },
  {
   "cell_type": "code",
   "execution_count": 4,
   "metadata": {},
   "outputs": [
    {
     "name": "stdout",
     "output_type": "stream",
     "text": [
      "[1, 2]\n"
     ]
    }
   ],
   "source": [
    "a = [1]\n",
    "a.append(2)\n",
    "print(a)"
   ]
  },
  {
   "cell_type": "code",
   "execution_count": 18,
   "metadata": {},
   "outputs": [
    {
     "name": "stdout",
     "output_type": "stream",
     "text": [
      "abcdefghijklmnopqrstuvwxyzABCDEFGHIJKLMNOPQRSTUVWXYZ1357902468\n"
     ]
    }
   ],
   "source": [
    "stringArr = \"1qaz2wsx3edc4rfv5tgb6yhn7ujm8ik9ol0pQWERTYUIOPASDFGHJKLZXCVBNM\"\n",
    "lower = []\n",
    "upper = []\n",
    "num = []\n",
    "\n",
    "for c in stringArr:\n",
    "    if c.isdigit():\n",
    "        num.append(c)\n",
    "    elif c.isupper():\n",
    "        upper.append(c)\n",
    "    else:\n",
    "        lower.append(c)\n",
    "lower.sort()\n",
    "upper.sort()\n",
    "num.sort(key='1357902468'.index)\n",
    "finalArray = lower + upper + num\n",
    "print(''.join(str(v) for v in finalArray))"
   ]
  },
  {
   "cell_type": "markdown",
   "metadata": {},
   "source": [
    "```python\n",
    "print(*sorted(input(), key=lambda c: (-ord(c) >> 5, c in '02468', c)), sep='')\n",
    "\n",
    "print(*sorted(input(), key=lambda c: (c.isdigit() - c.islower(), c in '02468', c)), sep='')\n",
    "\n",
    "order = 'abcdefghijklmnopqrstuvwxyzABCDEFGHIJKLMNOPQRSTUVWXYZ1357902468'\n",
    "print(*sorted(input(), key=order.index), sep='')\n",
    "\n",
    "import string\n",
    "print(*sorted(input(), key=(string.ascii_letters + '1357902468').index), sep='')\n",
    "```"
   ]
  },
  {
   "cell_type": "code",
   "execution_count": null,
   "metadata": {},
   "outputs": [],
   "source": []
  }
 ],
 "metadata": {
  "kernelspec": {
   "display_name": "Python 3",
   "language": "python",
   "name": "python3"
  },
  "language_info": {
   "codemirror_mode": {
    "name": "ipython",
    "version": 3
   },
   "file_extension": ".py",
   "mimetype": "text/x-python",
   "name": "python",
   "nbconvert_exporter": "python",
   "pygments_lexer": "ipython3",
   "version": "3.7.4"
  }
 },
 "nbformat": 4,
 "nbformat_minor": 2
}
