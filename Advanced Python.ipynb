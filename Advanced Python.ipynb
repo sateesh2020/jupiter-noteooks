{
 "cells": [
  {
   "cell_type": "markdown",
   "metadata": {},
   "source": [
    "## Utilities"
   ]
  },
  {
   "cell_type": "code",
   "execution_count": 2,
   "metadata": {},
   "outputs": [
    {
     "name": "stdout",
     "output_type": "stream",
     "text": [
      "True\n",
      "Min: 0\n",
      "Max: 6\n",
      "Sum: 21\n"
     ]
    }
   ],
   "source": [
    "list1 = [1,2,3,4,5,6,0]\n",
    "    \n",
    "print(any(list1))\n",
    "    \n",
    "print(\"Min:\", min(list1))\n",
    "    \n",
    "print(\"Max:\",max(list1))\n",
    "    \n",
    "print(\"Sum:\",sum(list1))"
   ]
  },
  {
   "cell_type": "markdown",
   "metadata": {},
   "source": [
    "## Iterators"
   ]
  },
  {
   "cell_type": "code",
   "execution_count": 6,
   "metadata": {},
   "outputs": [
    {
     "name": "stdout",
     "output_type": "stream",
     "text": [
      "Sun\n",
      "Mon\n",
      "Tue\n",
      "1 Sun\n",
      "2 Mon\n",
      "3 Tue\n",
      "4 Wed\n",
      "5 Thu\n",
      "6 Fri\n",
      "7 Sat\n",
      "('Sun', 'Dim')\n",
      "('Mon', 'Lun')\n",
      "('Tue', 'Mar')\n",
      "('Wed', 'Mer')\n",
      "('Thu', 'Jeu')\n",
      "('Fri', 'Ven')\n",
      "('Sat', 'Sam')\n",
      "1 Sun = Dim in French\n",
      "2 Mon = Lun in French\n",
      "3 Tue = Mar in French\n",
      "4 Wed = Mer in French\n",
      "5 Thu = Jeu in French\n",
      "6 Fri = Ven in French\n",
      "7 Sat = Sam in French\n"
     ]
    }
   ],
   "source": [
    "# use iterator functions like enumerate, zip, iter, next\n",
    "\n",
    "\n",
    "def main():\n",
    "    # define a list of days in English and French\n",
    "    days = [\"Sun\", \"Mon\", \"Tue\", \"Wed\", \"Thu\", \"Fri\", \"Sat\"]\n",
    "    daysFr = [\"Dim\", \"Lun\", \"Mar\", \"Mer\", \"Jeu\", \"Ven\", \"Sam\"]\n",
    "\n",
    "    # use iter to create an iterator over a collection\n",
    "    i = iter(days)\n",
    "    print(next(i))  # Sun\n",
    "    print(next(i))  # Mon\n",
    "    print(next(i))  # Tue\n",
    "\n",
    "#     # iterate using a function and a sentinel\n",
    "#     with open(\"testfile.txt\", \"r\") as fp:\n",
    "#         for line in iter(fp.readline, ''):\n",
    "#             print(line)\n",
    "\n",
    "#     # use regular interation over the days\n",
    "#     for m in range(len(days)):\n",
    "#         print(m+1, days[m])\n",
    "\n",
    "    # using enumerate reduces code and provides a counter\n",
    "    for i, m in enumerate(days, start=1):\n",
    "        print(i, m)\n",
    "\n",
    "    # use zip to combine sequences\n",
    "    for m in zip(days, daysFr):\n",
    "        print(m)\n",
    "\n",
    "    for i, m in enumerate(zip(days, daysFr), start=1):\n",
    "        print(i, m[0], \"=\", m[1], \"in French\")\n",
    "\n",
    "\n",
    "if __name__ == \"__main__\":\n",
    "    main()"
   ]
  },
  {
   "cell_type": "markdown",
   "metadata": {},
   "source": [
    "## Transforms"
   ]
  },
  {
   "cell_type": "code",
   "execution_count": 7,
   "metadata": {},
   "outputs": [
    {
     "name": "stdout",
     "output_type": "stream",
     "text": [
      "[1, 5, 13, 381, 47]\n",
      "['a', 'b', 'c', 'e', 'i', 'k', 'l', 'm', 'n', 'o']\n",
      "[1, 64, 16, 25, 169, 676, 145161, 168100, 3364, 2209]\n",
      "['F', 'D', 'C', 'C', 'B', 'B', 'A', 'A']\n"
     ]
    }
   ],
   "source": [
    "# use transform functions like sorted, filter, map\n",
    "def filterFunc(x):\n",
    "    if x % 2 == 0:\n",
    "        return False\n",
    "    return True\n",
    "\n",
    "\n",
    "def filterFunc2(x):\n",
    "    if x.isupper():\n",
    "        return False\n",
    "    return True\n",
    "\n",
    "\n",
    "def squareFunc(x):\n",
    "    return x**2\n",
    "\n",
    "\n",
    "def toGrade(x):\n",
    "    if (x >= 90):\n",
    "        return \"A\"\n",
    "    elif (x >= 80 and x < 90):\n",
    "        return \"B\"\n",
    "    elif (x >= 70 and x < 80):\n",
    "        return \"C\"\n",
    "    elif (x >= 65 and x < 70):\n",
    "        return \"D\"\n",
    "    return \"F\"\n",
    "\n",
    "\n",
    "def main():\n",
    "    # define some sample sequences to operate on\n",
    "    nums = (1, 8, 4, 5, 13, 26, 381, 410, 58, 47)\n",
    "    chars = \"abcDeFGHiJklmnoP\"\n",
    "    grades = (81, 89, 94, 78, 61, 66, 99, 74)\n",
    "\n",
    "    # use filter to remove items from a list\n",
    "    odds = list(filter(filterFunc, nums))\n",
    "    print(odds)\n",
    "\n",
    "    # use filter on non-numeric sequence\n",
    "    lowers = list(filter(filterFunc2, chars))\n",
    "    print(lowers)\n",
    "\n",
    "    # use map to create a new sequence of values\n",
    "    squares = list(map(squareFunc, nums))\n",
    "    print(squares)\n",
    "\n",
    "    # use sorted and map to change numbers to grades\n",
    "    grades = sorted(grades)\n",
    "    letters = list(map(toGrade, grades))\n",
    "    print(letters)\n",
    "\n",
    "\n",
    "if __name__ == \"__main__\":\n",
    "    main()"
   ]
  },
  {
   "cell_type": "markdown",
   "metadata": {},
   "source": [
    "IterTools"
   ]
  },
  {
   "cell_type": "code",
   "execution_count": 8,
   "metadata": {},
   "outputs": [
    {
     "name": "stdout",
     "output_type": "stream",
     "text": [
      "Joe\n",
      "John\n",
      "Mike\n",
      "Joe\n",
      "100\n",
      "110\n",
      "120\n",
      "[10, 20, 30, 40, 50, 50, 50]\n",
      "['A', 'B', 'C', 'D', '1', '2', '3', '4']\n",
      "[40, 50, 40, 30]\n",
      "[10, 20, 30]\n"
     ]
    }
   ],
   "source": [
    "# advanced iteration functions in the itertools package\n",
    "\n",
    "import itertools\n",
    "\n",
    "\n",
    "def testFunction(x):\n",
    "    return x < 40\n",
    "\n",
    "\n",
    "def main():\n",
    "    # cycle iterator can be used to cycle over a collection\n",
    "    seq1 = [\"Joe\", \"John\", \"Mike\"]\n",
    "    cycle1 = itertools.cycle(seq1)\n",
    "    print(next(cycle1))\n",
    "    print(next(cycle1))\n",
    "    print(next(cycle1))\n",
    "    print(next(cycle1))\n",
    "\n",
    "    # use count to create a simple counter\n",
    "    count1 = itertools.count(100, 10)\n",
    "    print(next(count1))\n",
    "    print(next(count1))\n",
    "    print(next(count1))\n",
    "\n",
    "    # accumulate creates an iterator that accumulates values\n",
    "    vals = [10,20,30,40,50,40,30]\n",
    "    acc = itertools.accumulate(vals, max)\n",
    "    print(list(acc))\n",
    "        \n",
    "    # use chain to connect sequences together\n",
    "    x = itertools.chain(\"ABCD\", \"1234\")\n",
    "    print(list(x))\n",
    "    \n",
    "    # dropwhile and takewhile will return values until\n",
    "    # a certain condition is met that stops them\n",
    "    print(list(itertools.dropwhile(testFunction, vals)))\n",
    "    print(list(itertools.takewhile(testFunction, vals)))\n",
    "    \n",
    "    \n",
    "if __name__ == \"__main__\":\n",
    "    main()"
   ]
  },
  {
   "cell_type": "markdown",
   "metadata": {},
   "source": [
    "## Namedtuple"
   ]
  },
  {
   "cell_type": "code",
   "execution_count": 9,
   "metadata": {},
   "outputs": [
    {
     "name": "stdout",
     "output_type": "stream",
     "text": [
      "Point(x=10, y=20) Point(x=30, y=40)\n",
      "10 20\n",
      "Point(x=100, y=20)\n"
     ]
    }
   ],
   "source": [
    "# Demonstrate the usage of namdtuple objects\n",
    "\n",
    "import collections\n",
    "\n",
    "\n",
    "def main():\n",
    "    # create a Point namedtuple\n",
    "    Point = collections.namedtuple(\"Point\", \"x y\")\n",
    "\n",
    "    p1 = Point(10, 20)\n",
    "    p2 = Point(30, 40)\n",
    "\n",
    "    print(p1, p2)\n",
    "    print(p1.x, p1.y)\n",
    "\n",
    "    # use _replace to create a new instance\n",
    "    p1 = p1._replace(x=100)\n",
    "    print(p1)\n",
    "\n",
    "\n",
    "if __name__ == \"__main__\":\n",
    "    main()"
   ]
  },
  {
   "cell_type": "markdown",
   "metadata": {},
   "source": [
    "## Deque"
   ]
  },
  {
   "cell_type": "code",
   "execution_count": 13,
   "metadata": {},
   "outputs": [
    {
     "name": "stdout",
     "output_type": "stream",
     "text": [
      "Item count: 26\n",
      "A,B,C,D,E,F,G,H,I,J,K,L,M,N,O,P,Q,R,S,T,U,V,W,X,Y,Z,deque([1, 'b', 'c', 'd', 'e', 'f', 'g', 'h', 'i', 'j', 'k', 'l', 'm', 'n', 'o', 'p', 'q', 'r', 's', 't', 'u', 'v', 'w', 'x', 'y', 2])\n",
      "deque([1, 'b', 'c', 'd', 'e', 'f', 'g', 'h', 'i', 'j', 'k', 'l', 'm', 'n', 'o', 'p', 'q', 'r', 's', 't', 'u', 'v', 'w', 'x', 'y', 2])\n",
      "deque([2, 1, 'b', 'c', 'd', 'e', 'f', 'g', 'h', 'i', 'j', 'k', 'l', 'm', 'n', 'o', 'p', 'q', 'r', 's', 't', 'u', 'v', 'w', 'x', 'y'])\n"
     ]
    }
   ],
   "source": [
    "# deque objects are like double-ended queues\n",
    "\n",
    "import collections\n",
    "import string\n",
    "\n",
    "\n",
    "def main():\n",
    "    # initialize a deque with lowercase letters\n",
    "    d = collections.deque(string.ascii_lowercase)\n",
    "\n",
    "    # deques support the len() function\n",
    "    print(\"Item count: \" + str(len(d)))\n",
    "\n",
    "    # deques can be iterated over\n",
    "    for elem in d:\n",
    "        print(elem.upper(), end=\",\")\n",
    "\n",
    "    # manipulate items from either end\n",
    "    d.pop()\n",
    "    d.popleft()\n",
    "    d.append(2)\n",
    "    d.appendleft(1)\n",
    "    print(d)\n",
    "\n",
    "    # rotate the deque\n",
    "    print(d)\n",
    "    d.rotate(1)\n",
    "    print(d)\n",
    "\n",
    "\n",
    "if __name__ == \"__main__\":\n",
    "    main()\n"
   ]
  },
  {
   "cell_type": "markdown",
   "metadata": {},
   "source": [
    "## Counter"
   ]
  },
  {
   "cell_type": "code",
   "execution_count": 11,
   "metadata": {},
   "outputs": [
    {
     "name": "stdout",
     "output_type": "stream",
     "text": [
      "2\n",
      "11 students in class 1\n",
      "23 students in class 1 and 2\n",
      "[('James', 3), ('Frank', 2), ('Bob', 1)]\n",
      "[('James', 2)]\n",
      "Counter({'James': 1, 'Frank': 1})\n"
     ]
    }
   ],
   "source": [
    "# Demonstrate the usage of Counter objects\n",
    "\n",
    "from collections import Counter\n",
    "\n",
    "\n",
    "def main():\n",
    "    # list of students in class 1\n",
    "    class1 = [\"Bob\", \"James\", \"Chad\", \"Darcy\", \"Penny\", \"Hannah\"\n",
    "              \"Kevin\", \"James\", \"Melanie\", \"Becky\", \"Steve\", \"Frank\"]\n",
    "\n",
    "    # list of students in class 2\n",
    "    class2 = [\"Bill\", \"Barry\", \"Cindy\", \"Debbie\", \"Frank\",\n",
    "              \"Gabby\", \"Kelly\", \"James\", \"Joe\", \"Sam\", \"Tara\", \"Ziggy\"]\n",
    "\n",
    "    # Create a Counter for class1 and class2\n",
    "    c1 = Counter(class1)\n",
    "    c2 = Counter(class2)\n",
    "\n",
    "    # How many students in class 1 named James?\n",
    "    print(c1[\"James\"])\n",
    "\n",
    "    # How many students are in class 1?\n",
    "    print(sum(c1.values()), \"students in class 1\")\n",
    "\n",
    "    # Combine the two classes\n",
    "    c1.update(class2)\n",
    "    print(sum(c1.values()), \"students in class 1 and 2\")\n",
    "\n",
    "    # What's the most common name in the two classes?\n",
    "    print(c1.most_common(3))\n",
    "\n",
    "    # Separate the classes again\n",
    "    c1.subtract(class2)\n",
    "    print(c1.most_common(1))\n",
    "\n",
    "    # What's common between the two classes?\n",
    "    print(c1 & c2)\n",
    "\n",
    "\n",
    "if __name__ == \"__main__\":\n",
    "    main()"
   ]
  },
  {
   "cell_type": "markdown",
   "metadata": {},
   "source": [
    "## DefaultDict"
   ]
  },
  {
   "cell_type": "code",
   "execution_count": 10,
   "metadata": {},
   "outputs": [
    {
     "name": "stdout",
     "output_type": "stream",
     "text": [
      "apple: 2\n",
      "pear: 1\n",
      "orange: 1\n",
      "banana: 3\n",
      "grape: 1\n"
     ]
    }
   ],
   "source": [
    "# Demonstrate the usage of defaultdict objects\n",
    "\n",
    "from collections import defaultdict\n",
    "\n",
    "\n",
    "def main():\n",
    "    # define a list of items that we want to count\n",
    "    fruits = ['apple', 'pear', 'orange', 'banana',\n",
    "              'apple', 'grape', 'banana', 'banana']\n",
    "\n",
    "    # use a dictionary to count each element\n",
    "    fruitCounter = defaultdict(int)\n",
    "\n",
    "    # Count the elements in the list\n",
    "    for fruit in fruits:\n",
    "        fruitCounter[fruit] += 1\n",
    "\n",
    "    # print the result\n",
    "    for (k, v) in fruitCounter.items():\n",
    "        print(k + \": \" + str(v))\n",
    "\n",
    "\n",
    "if __name__ == \"__main__\":\n",
    "    main()"
   ]
  },
  {
   "cell_type": "markdown",
   "metadata": {},
   "source": [
    "## OrderedDict"
   ]
  },
  {
   "cell_type": "code",
   "execution_count": 12,
   "metadata": {},
   "outputs": [
    {
     "name": "stdout",
     "output_type": "stream",
     "text": [
      "OrderedDict([('Warriors', (25, 5)), ('Rockets', (24, 6)), ('Dragons', (22, 8)), ('Cardinals', (20, 10)), ('Chargers', (20, 10)), ('Royals', (18, 12)), ('Jets', (16, 14)), ('Kings', (15, 15))])\n",
      "Top team:  Warriors (25, 5)\n",
      "1 Rockets\n",
      "2 Dragons\n",
      "3 Cardinals\n",
      "4 Chargers\n",
      "Equality test:  False\n"
     ]
    }
   ],
   "source": [
    "# Demonstrate the usage of OrderedDict objects\n",
    "\n",
    "from collections import OrderedDict\n",
    "\n",
    "\n",
    "def main():\n",
    "    # list of sport teams with wins and losses\n",
    "    sportTeams = [(\"Royals\", (18, 12)), (\"Rockets\", (24, 6)), \n",
    "                (\"Cardinals\", (20, 10)), (\"Dragons\", (22, 8)),\n",
    "                (\"Kings\", (15, 15)), (\"Chargers\", (20, 10)), \n",
    "                (\"Jets\", (16, 14)), (\"Warriors\", (25, 5))]\n",
    "\n",
    "    # sort the teams by number of wins\n",
    "    sortedTeams = sorted(sportTeams, key=lambda t: t[1][0], reverse=True)\n",
    "\n",
    "    # create an ordered dictionary of the teams\n",
    "    teams = OrderedDict(sortedTeams)\n",
    "    print(teams)\n",
    "\n",
    "    # Use popitem to remove the top item\n",
    "    tm, wl = teams.popitem(False)\n",
    "    print(\"Top team: \", tm, wl)\n",
    "\n",
    "    # What are next the top 4 teams?\n",
    "    for i, team in enumerate(teams, start=1):\n",
    "        print(i, team)\n",
    "        if i == 4:\n",
    "            break\n",
    "\n",
    "    # test for equality\n",
    "    a = OrderedDict({\"a\": 1, \"b\": 2, \"c\": 3})\n",
    "    b = OrderedDict({\"a\": 1, \"c\": 3, \"b\": 2})\n",
    "    print(\"Equality test: \", a == b)\n",
    "\n",
    "\n",
    "if __name__ == \"__main__\":\n",
    "    main()\n"
   ]
  },
  {
   "cell_type": "markdown",
   "metadata": {},
   "source": [
    "# Classes"
   ]
  },
  {
   "cell_type": "markdown",
   "metadata": {},
   "source": [
    "## Enumerations"
   ]
  },
  {
   "cell_type": "code",
   "execution_count": 14,
   "metadata": {},
   "outputs": [
    {
     "name": "stdout",
     "output_type": "stream",
     "text": [
      "Fruit.APPLE\n",
      "<enum 'Fruit'>\n",
      "<Fruit.APPLE: 1>\n",
      "APPLE 1\n",
      "5\n",
      "Come Mr. Tally-man\n"
     ]
    }
   ],
   "source": [
    "# define enumerations using the Enum base class\n",
    "\n",
    "from enum import Enum, unique, auto\n",
    "\n",
    "\n",
    "@unique\n",
    "class Fruit(Enum):\n",
    "    APPLE = 1\n",
    "    BANANA = 2\n",
    "    ORANGE = 3\n",
    "    TOMATO = 4\n",
    "    PEAR = auto()\n",
    "\n",
    "\n",
    "def main():\n",
    "    # enums have human-readable values and types\n",
    "    print(Fruit.APPLE)\n",
    "    print(type(Fruit.APPLE))\n",
    "    print(repr(Fruit.APPLE))\n",
    "\n",
    "    # enums have name and value properties\n",
    "    print(Fruit.APPLE.name, Fruit.APPLE.value)\n",
    "\n",
    "    # print the auto-generated value\n",
    "    print(Fruit.PEAR.value)\n",
    "\n",
    "    # enums are hashable - can be used as keys\n",
    "    myFruits = {}\n",
    "    myFruits[Fruit.BANANA] = \"Come Mr. Tally-man\"\n",
    "    print(myFruits[Fruit.BANANA])\n",
    "\n",
    "\n",
    "if __name__ == \"__main__\":\n",
    "    main()\n"
   ]
  },
  {
   "cell_type": "markdown",
   "metadata": {},
   "source": [
    "## Override Class methods"
   ]
  },
  {
   "cell_type": "code",
   "execution_count": 17,
   "metadata": {},
   "outputs": [
    {
     "name": "stdout",
     "output_type": "stream",
     "text": [
      "<Person Class - fname:Joe, lname:Marini, age25>\n",
      "Person (Joe Marini is 25)\n",
      "Formatted: Person (Joe Marini is 25)\n",
      "b'Person:Joe:Marini:25'\n"
     ]
    }
   ],
   "source": [
    "# customize string representations of objects\n",
    "\n",
    "class Person():\n",
    "    def __init__(self):\n",
    "        self.fname = \"Joe\"\n",
    "        self.lname = \"Marini\"\n",
    "        self.age = 25\n",
    "\n",
    "    # use __repr__ to create a string useful for debugging\n",
    "    def __repr__(self):\n",
    "        return \"<Person Class - fname:{0}, lname:{1}, age{2}>\".format(self.fname, self.lname, self.age)\n",
    "\n",
    "    # use str for a more human-readable string\n",
    "    def __str__(self):\n",
    "        return \"Person ({0} {1} is {2})\".format(self.fname, self.lname, self.age)\n",
    "\n",
    "    # use bytes to convert the informal string to a bytes object\n",
    "    def __bytes__(self):\n",
    "        val = \"Person:{0}:{1}:{2}\".format(self.fname, self.lname, self.age)\n",
    "        return bytes(val.encode('utf-8'))\n",
    "\n",
    "\n",
    "def main():\n",
    "    # create a new Person object\n",
    "    cls1 = Person()\n",
    "\n",
    "    # use different Python functions to convert it to a string\n",
    "    print(repr(cls1))\n",
    "    print(str(cls1))\n",
    "    print(\"Formatted: {0}\".format(cls1))\n",
    "    print(bytes(cls1))\n",
    "\n",
    "\n",
    "if __name__ == \"__main__\":\n",
    "    main()\n"
   ]
  },
  {
   "cell_type": "code",
   "execution_count": 19,
   "metadata": {},
   "outputs": [
    {
     "name": "stdout",
     "output_type": "stream",
     "text": [
      "(50, 75, 100)\n",
      "#324b64\n",
      "(125, 200, 86)\n",
      "#7dc856\n",
      "125\n",
      "['hexcolor', 'rgbolor']\n"
     ]
    }
   ],
   "source": [
    "# customize string representations of objects\n",
    "\n",
    "\n",
    "class myColor():\n",
    "    def __init__(self):\n",
    "        self.red = 50\n",
    "        self.green = 75\n",
    "        self.blue = 100\n",
    "\n",
    "    # use getattr to dynamically return a value\n",
    "    def __getattr__(self, attr):\n",
    "        if attr == \"rgbcolor\":\n",
    "            return (self.red, self.green, self.blue)\n",
    "        elif attr == \"hexcolor\":\n",
    "            return \"#{0:02x}{1:02x}{2:02x}\".format(self.red, self.green, self.blue)\n",
    "        else:\n",
    "            raise AttributeError\n",
    "\n",
    "    # use setattr to dynamically return a value\n",
    "    def __setattr__(self, attr, val):\n",
    "        if attr == \"rgbcolor\":\n",
    "            self.red = val[0]\n",
    "            self.green = val[1]\n",
    "            self.blue = val[2]\n",
    "        else:\n",
    "            super().__setattr__(attr, val)\n",
    "\n",
    "    # use dir to list the available properties\n",
    "    def __dir__(self):\n",
    "        return (\"rgbolor\", \"hexcolor\")\n",
    "\n",
    "\n",
    "def main():\n",
    "    # create an instance of myColor\n",
    "    cls1 = myColor()\n",
    "    # print the value of a computed attribute\n",
    "    print(cls1.rgbcolor)\n",
    "    print(cls1.hexcolor)\n",
    "\n",
    "    # set the value of a computed attribute\n",
    "    cls1.rgbcolor = (125, 200, 86)\n",
    "    print(cls1.rgbcolor)\n",
    "    print(cls1.hexcolor)\n",
    "\n",
    "    # access a regular attribute\n",
    "    print(cls1.red)\n",
    "\n",
    "    # list the available attributes\n",
    "    print(dir(cls1))\n",
    "\n",
    "\n",
    "if __name__ == \"__main__\":\n",
    "    main()\n"
   ]
  },
  {
   "cell_type": "markdown",
   "metadata": {},
   "source": [
    "## Class Numerical Operators"
   ]
  },
  {
   "cell_type": "code",
   "execution_count": 18,
   "metadata": {},
   "outputs": [
    {
     "name": "stdout",
     "output_type": "stream",
     "text": [
      "<Point x:10,y:20> <Point x:30,y:30>\n",
      "<Point x:40,y:50>\n",
      "<Point x:20,y:10>\n",
      "<Point x:40,y:50>\n"
     ]
    }
   ],
   "source": [
    "# give objects number-like behavior\n",
    "\n",
    "\n",
    "class Point():\n",
    "    def __init__(self, x, y):\n",
    "        self.x = x\n",
    "        self.y = y\n",
    "\n",
    "    def __repr__(self):\n",
    "        return \"<Point x:{0},y:{1}>\".format(self.x, self.y)\n",
    "\n",
    "    # implement addition\n",
    "    def __add__(self, other):\n",
    "        return Point(self.x + other.x, self.y + other.y)\n",
    "\n",
    "    # implement subtraction\n",
    "    def __sub__(self, other):\n",
    "        return Point(self.x - other.x, self.y - other.y)\n",
    "\n",
    "    # implement in-place addition\n",
    "    def __iadd__(self, other):\n",
    "        self.x += other.x\n",
    "        self.y += other.y\n",
    "        return self\n",
    "\n",
    "\n",
    "def main():\n",
    "    # Declare some points\n",
    "    p1 = Point(10, 20)\n",
    "    p2 = Point(30, 30)\n",
    "    print(p1, p2)\n",
    "\n",
    "    # Add two points\n",
    "    p3 = p1 + p2\n",
    "    print(p3)\n",
    "\n",
    "    # subtract two points\n",
    "    p4 = p2 - p1\n",
    "    print(p4)\n",
    "\n",
    "    # Perform in-place addition\n",
    "    p1 += p2\n",
    "    print(p1)\n",
    "\n",
    "\n",
    "if __name__ == \"__main__\":\n",
    "    main()\n"
   ]
  },
  {
   "cell_type": "markdown",
   "metadata": {},
   "source": [
    "## Class Comparision Operators"
   ]
  },
  {
   "cell_type": "code",
   "execution_count": 20,
   "metadata": {},
   "outputs": [
    {
     "name": "stdout",
     "output_type": "stream",
     "text": [
      "False\n",
      "True\n",
      "Doe\n",
      "Sims\n",
      "Durden\n",
      "Robinson\n",
      "Smith\n"
     ]
    }
   ],
   "source": [
    "# Use special methods to compare objects to each other\n",
    "\n",
    "\n",
    "class Employee():\n",
    "    def __init__(self, fname, lname, level, yrsService):\n",
    "        self.fname = fname\n",
    "        self.lname = lname\n",
    "        self.level = level\n",
    "        self.seniority = yrsService\n",
    "\n",
    "    # implement comparison functions by emp level\n",
    "    def __ge__(self, other):\n",
    "        if self.level == other.level:\n",
    "            return self.seniority >= other.seniority\n",
    "        return self.level >= other.level\n",
    "\n",
    "    def __gt__(self, other):\n",
    "        if self.level == other.level:\n",
    "            return self.seniority > other.seniority\n",
    "        return self.level > other.level\n",
    "\n",
    "    def __lt__(self, other):\n",
    "        if self.level == other.level:\n",
    "            return self.seniority < other.seniority\n",
    "        return self.level < other.level\n",
    "\n",
    "    def __le__(self, other):\n",
    "        if self.level == other.level:\n",
    "            return self.seniority <= other.seniority\n",
    "        return self.level <= other.level\n",
    "\n",
    "    def __eq__(self, other):\n",
    "        return self.level == other.level\n",
    "\n",
    "\n",
    "def main():\n",
    "    # define some employees\n",
    "    dept = []\n",
    "    dept.append(Employee(\"Tim\", \"Sims\", 5, 9))\n",
    "    dept.append(Employee(\"John\", \"Doe\", 4, 12))\n",
    "    dept.append(Employee(\"Jane\", \"Smith\", 6, 6))\n",
    "    dept.append(Employee(\"Rebecca\", \"Robinson\", 5, 13))\n",
    "    dept.append(Employee(\"Tyler\", \"Durden\", 5, 12))\n",
    "\n",
    "    # Who's more senior?\n",
    "    print(bool(dept[0] > dept[2]))\n",
    "    print(bool(dept[4] < dept[3]))\n",
    "\n",
    "    # sort the items\n",
    "    emps = sorted(dept)\n",
    "    for emp in emps:\n",
    "        print(emp.lname)\n",
    "\n",
    "\n",
    "if __name__ == \"__main__\":\n",
    "    main()\n"
   ]
  },
  {
   "cell_type": "markdown",
   "metadata": {},
   "source": [
    "# Logging"
   ]
  },
  {
   "cell_type": "code",
   "execution_count": 21,
   "metadata": {},
   "outputs": [],
   "source": [
    "# demonstrate the logging api in Python\n",
    "\n",
    "# use the built-in logging module\n",
    "import logging\n",
    "\n",
    "\n",
    "def main():\n",
    "    # Use basicConfig to configure logging\n",
    "    # this is only executed once, subsequent calls to\n",
    "    # basicConfig will have no effect\n",
    "    logging.basicConfig(level=logging.DEBUG,\n",
    "                        filemode=\"w\",\n",
    "                        filename=\"output.log\")\n",
    "\n",
    "    # Try out each of the log levels\n",
    "    logging.debug(\"This is a debug-level log message\")\n",
    "    logging.info(\"This is an info-level log message\")\n",
    "    logging.warning(\"This is a warning-level message\")\n",
    "    logging.error(\"This is an error-level message\")\n",
    "    logging.critical(\"This is a critical-level message\")\n",
    "\n",
    "    # Output formatted string to the log\n",
    "    logging.info(\"Here's a {} variable and an int: {}\".format(\"string\", 10))\n",
    "\n",
    "\n",
    "if __name__ == \"__main__\":\n",
    "    main()\n"
   ]
  },
  {
   "cell_type": "code",
   "execution_count": 22,
   "metadata": {},
   "outputs": [],
   "source": [
    "# Demonstrate how to customize logging output\n",
    "\n",
    "import logging\n",
    "\n",
    "extData = {'user': 'joem@example.com'}\n",
    "\n",
    "\n",
    "def anotherFunction():\n",
    "    logging.debug(\"This is a debug-level log message\", extra=extData)\n",
    "\n",
    "\n",
    "def main():\n",
    "    # set the output file and debug level, and\n",
    "    # use a custom formatting specification\n",
    "    fmtStr = \"%(asctime)s: %(levelname)s: %(funcName)s Line:%(lineno)d User:%(user)s %(message)s\"\n",
    "    dateStr = \"%m/%d/%Y %I:%M:%S %p\"\n",
    "    logging.basicConfig(filename=\"output.log\",\n",
    "                        level=logging.DEBUG,\n",
    "                        format=fmtStr,\n",
    "                        datefmt=dateStr)\n",
    "\n",
    "    logging.info(\"This is an info-level log message\", extra=extData)\n",
    "    logging.warning(\"This is a warning-level message\", extra=extData)\n",
    "    anotherFunction()\n",
    "\n",
    "\n",
    "if __name__ == \"__main__\":\n",
    "    main()\n"
   ]
  },
  {
   "cell_type": "markdown",
   "metadata": {},
   "source": [
    "# Comprehensions"
   ]
  },
  {
   "cell_type": "markdown",
   "metadata": {},
   "source": [
    "## List comprehensions"
   ]
  },
  {
   "cell_type": "code",
   "execution_count": 23,
   "metadata": {},
   "outputs": [
    {
     "name": "stdout",
     "output_type": "stream",
     "text": [
      "[36, 64, 100, 144, 196]\n",
      "[4, 16, 36, 64, 100, 144, 196, 256, 324, 400]\n",
      "[25, 49, 81, 121, 169, 225]\n"
     ]
    }
   ],
   "source": [
    "# Demonstrate how to use list comprehensions\n",
    "\n",
    "\n",
    "def main():\n",
    "    # define two lists of numbers\n",
    "    evens = [2, 4, 6, 8, 10, 12, 14, 16, 18, 20]\n",
    "    odds = [1, 3, 5, 7, 9, 11, 13, 15, 17, 19]\n",
    "\n",
    "    # Perform a mapping and filter function on a list\n",
    "    evenSquared = list(\n",
    "        map(lambda e: e**2, filter(lambda e: e > 4 and e < 16, evens)))\n",
    "    print(evenSquared)\n",
    "\n",
    "    # Derive a new list of numbers frm a given list\n",
    "    evenSquared = [e ** 2 for e in evens]\n",
    "    print(evenSquared)\n",
    "\n",
    "    # Limit the items operated on with a predicate condition\n",
    "    oddSquared = [e ** 2 for e in odds if e > 3 and e < 17]\n",
    "    print(oddSquared)\n",
    "\n",
    "\n",
    "if __name__ == \"__main__\":\n",
    "    main()"
   ]
  },
  {
   "cell_type": "markdown",
   "metadata": {},
   "source": [
    "## Dictonary comprehensions"
   ]
  },
  {
   "cell_type": "code",
   "execution_count": 24,
   "metadata": {},
   "outputs": [
    {
     "name": "stdout",
     "output_type": "stream",
     "text": [
      "{0: 32.0, 12: 53.6, 34: 93.2}\n",
      "53.6\n",
      "{'Jones': 24, 'Jameson': 18, 'Smith': 58, 'Burns': 7, 'White': 12, 'Macke': 88, 'Perce': 4}\n"
     ]
    }
   ],
   "source": [
    "# Demonstrate how to use dictionary comprehensions\n",
    "\n",
    "\n",
    "def main():\n",
    "    # define a list of temperature values\n",
    "    ctemps = [0, 12, 34, 100]\n",
    "\n",
    "    # Use a comprehension to build a dictionary\n",
    "    tempDict = {t: (t * 9/5) + 32 for t in ctemps if t < 100}\n",
    "    print(tempDict)\n",
    "    print(tempDict[12])\n",
    "\n",
    "    # Merge two dictionaries with a comprehension\n",
    "    team1 = {\"Jones\": 24, \"Jameson\": 18, \"Smith\": 58, \"Burns\": 7}\n",
    "    team2 = {\"White\": 12, \"Macke\": 88, \"Perce\": 4}\n",
    "    newTeam = {k: v for team in (team1, team2) for k, v in team.items()}\n",
    "    print(newTeam)\n",
    "\n",
    "\n",
    "if __name__ == \"__main__\":\n",
    "    main()\n"
   ]
  },
  {
   "cell_type": "markdown",
   "metadata": {},
   "source": [
    "## Set comprehensions"
   ]
  },
  {
   "cell_type": "code",
   "execution_count": 25,
   "metadata": {},
   "outputs": [
    {
     "name": "stdout",
     "output_type": "stream",
     "text": [
      "[41.0, 50.0, 53.6, 57.2, 50.0, 73.4, 105.8, 86.0, 53.6, 75.2, 53.6, 64.4, 84.2]\n",
      "{64.4, 73.4, 41.0, 105.8, 75.2, 50.0, 84.2, 53.6, 86.0, 57.2}\n",
      "{'D', 'E', 'X', 'Q', 'Y', 'J', 'N', 'W', 'P', 'G', 'A', 'V', 'M', 'T', 'C', 'H', 'R', 'K', 'B', 'F', 'Z', 'U', 'O', 'L', 'I'}\n"
     ]
    }
   ],
   "source": [
    "# Demonstrate how to use set comprehensions\n",
    "\n",
    "\n",
    "def main():\n",
    "    # define a list of temperature data points\n",
    "    ctemps = [5, 10, 12, 14, 10, 23, 41, 30, 12, 24, 12, 18, 29]\n",
    "\n",
    "    # build a set of unique Fahrenheit temperatures\n",
    "    ftemps1 = [(t * 9/5) + 32 for t in ctemps]\n",
    "    ftemps2 = {(t * 9/5) + 32 for t in ctemps}\n",
    "    print(ftemps1)\n",
    "    print(ftemps2)\n",
    "\n",
    "    # build a set from an input source\n",
    "    sTemp = \"The quick brown fox jumped over the lazy dog\"\n",
    "    chars = {c.upper() for c in sTemp if not c.isspace()}\n",
    "    print(chars)\n",
    "\n",
    "\n",
    "if __name__ == \"__main__\":\n",
    "    main()\n"
   ]
  },
  {
   "cell_type": "code",
   "execution_count": null,
   "metadata": {},
   "outputs": [],
   "source": []
  }
 ],
 "metadata": {
  "kernelspec": {
   "display_name": "Python 3",
   "language": "python",
   "name": "python3"
  },
  "language_info": {
   "codemirror_mode": {
    "name": "ipython",
    "version": 3
   },
   "file_extension": ".py",
   "mimetype": "text/x-python",
   "name": "python",
   "nbconvert_exporter": "python",
   "pygments_lexer": "ipython3",
   "version": "3.7.4"
  }
 },
 "nbformat": 4,
 "nbformat_minor": 2
}
